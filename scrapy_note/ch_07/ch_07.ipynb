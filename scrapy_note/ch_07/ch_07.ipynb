{
 "cells": [
  {
   "attachments": {},
   "cell_type": "markdown",
   "metadata": {},
   "source": [
    "# Ch.07 ScrapyとMySQL\n",
    "\n",
    "<https://sugiaki1989.gitbook.io/scrapy-note/chapter07_mysql>\n",
    "\n",
    "[Books to scrape](http://books.toscrape.com/)\n",
    "\n",
    "- MySQLをSQLiteに変更する"
   ]
  }
 ],
 "metadata": {
  "language_info": {
   "name": "python"
  },
  "orig_nbformat": 4
 },
 "nbformat": 4,
 "nbformat_minor": 2
}
