{
 "cells": [
  {
   "attachments": {},
   "cell_type": "markdown",
   "metadata": {},
   "source": [
    "# Command line tool\n",
    "\n",
    "- <https://docs.scrapy.org/en/latest/topics/commands.html>\n",
    "- <https://scrapy-docs-ja.readthedocs.io/ja/latest/topics/commands.html>"
   ]
  },
  {
   "attachments": {},
   "cell_type": "markdown",
   "metadata": {},
   "source": [
    "## 利用可能なコマンドツール\n",
    "\n",
    "- `scrapy -h`\n",
    "  - コマンド一覧\n",
    "- `scrapy <command> -h`\n",
    "  - コマンドの詳細情報\n",
    "- Global commands:\n",
    "  - `startproject`\n",
    "  - `genspider`\n",
    "  - `settings`\n",
    "  - `runspider`\n",
    "  - `shell`\n",
    "  - `fetch`\n",
    "  - `view`\n",
    "  - `version`\n",
    "- Project-only commands:\n",
    "  - `crawl`\n",
    "  - `check`\n",
    "  - `list`\n",
    "  - `edit`\n",
    "  - `parse`\n",
    "  - `bench`"
   ]
  }
 ],
 "metadata": {
  "language_info": {
   "name": "python"
  },
  "orig_nbformat": 4
 },
 "nbformat": 4,
 "nbformat_minor": 2
}
