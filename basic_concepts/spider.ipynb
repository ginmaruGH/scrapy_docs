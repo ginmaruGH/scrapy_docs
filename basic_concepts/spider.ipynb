{
 "cells": [
  {
   "attachments": {},
   "cell_type": "markdown",
   "metadata": {},
   "source": [
    "# Spiders\n",
    "\n",
    "- <https://docs.scrapy.org/en/latest/topics/spiders.html>\n",
    "- <https://scrapy-docs-ja.readthedocs.io/ja/latest/topics/spiders.html>"
   ]
  },
  {
   "attachments": {},
   "cell_type": "markdown",
   "metadata": {},
   "source": [
    "- Spiders\n",
    "  - 特定のサイトのスクレイピング方法を定義するクラス\n",
    "    - クロールの実行方法（リンクの追跡など）\n",
    "    - ページから構造化データを抽出する方法（アイテムのスクレイピングなど）\n",
    "  - 特定のサイトのページをクロールおよび解析するためのカスタム動作を定義する"
   ]
  }
 ],
 "metadata": {
  "language_info": {
   "name": "python"
  },
  "orig_nbformat": 4
 },
 "nbformat": 4,
 "nbformat_minor": 2
}
